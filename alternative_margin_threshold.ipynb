{
 "cells": [
  {
   "attachments": {},
   "cell_type": "markdown",
   "metadata": {},
   "source": [
    "# Alternative Margin Threshold Checking\n",
    "\n",
    "Notebook to test out my new idea for using some basic spherical trigonometry to calculate margin caches in an efficient and accurate way.\n",
    "\n",
    "## Single Point Calculation\n",
    "\n",
    "first, we should test out our math on a single data point. let's use a real one from one of my margin cache runs."
   ]
  },
  {
   "cell_type": "code",
   "execution_count": 519,
   "metadata": {},
   "outputs": [],
   "source": [
    "import pandas as pd\n",
    "import numpy as np\n",
    "import healpy as hp\n",
    "from astropy.coordinates import SkyCoord"
   ]
  },
  {
   "cell_type": "code",
   "execution_count": 520,
   "metadata": {},
   "outputs": [
    {
     "data": {
      "text/plain": [
       "(56.14906022125143, 9.55430638203006)"
      ]
     },
     "execution_count": 520,
     "metadata": {},
     "output_type": "execute_result"
    }
   ],
   "source": [
    "# data from my \"margin_cache_truth\" test run with the brute force margin checking\n",
    "# margin_threshold == 0.1 degrees\n",
    "df = pd.read_parquet(\"/Users/maxwest/data_sets/hipscat_import/gaia_margin_cache_truth/Norder=3/Dir=0/Npix=4.parquet\")\n",
    "\n",
    "# random test point with good astrometry (not that it really matters)\n",
    "index = 20\n",
    "ra, dec = df[\"ra\"].values[index], df[\"dec\"].values[index]\n",
    "ra, dec"
   ]
  },
  {
   "attachments": {},
   "cell_type": "markdown",
   "metadata": {},
   "source": [
    "let's take this point and get the minimum distance between it and the separations against it and all boundary points. this will serve as a good benchmark to determine how good our math is.\n",
    "\n",
    "we should note that the value we end up calculating should be less than this as this measurement is the \"hypotenuse\" of our spherical triangle."
   ]
  },
  {
   "cell_type": "code",
   "execution_count": 521,
   "metadata": {},
   "outputs": [
    {
     "data": {
      "text/plain": [
       "(0.09858480247714595, 199)"
      ]
     },
     "execution_count": 521,
     "metadata": {},
     "output_type": "execute_result"
    }
   ],
   "source": [
    "bounds_test = hp.vec2dir(\n",
    "    hp.boundaries(2**3, 4, step=100, nest=True), lonlat=True\n",
    ")\n",
    "\n",
    "sc1 = SkyCoord(ra=ra, dec=dec, unit=\"deg\")\n",
    "sc2 = SkyCoord(ra=bounds_test[0], dec=bounds_test[1], unit=\"deg\")\n",
    "\n",
    "seps = sc1.separation(sc2).degree\n",
    "minv = np.min(seps)\n",
    "mini = np.argmin(seps)\n",
    "minv, mini"
   ]
  },
  {
   "attachments": {},
   "cell_type": "markdown",
   "metadata": {},
   "source": [
    "what are the separations on either side of our minimum point? the smallest one is going to be the one to check for the margin threshold."
   ]
  },
  {
   "cell_type": "code",
   "execution_count": 522,
   "metadata": {},
   "outputs": [
    {
     "data": {
      "text/plain": [
       "(0.13709786115228087, 0.10718199595645189, 200)"
      ]
     },
     "execution_count": 522,
     "metadata": {},
     "output_type": "execute_result"
    }
   ],
   "source": [
    "opi = 0\n",
    "seps[mini-1], seps[mini+1]\n",
    "if seps[mini-1] <= seps[mini+1]:\n",
    "    opi = mini-1\n",
    "else:\n",
    "    opi = mini+1\n",
    "seps[mini-1], seps[mini+1], opi"
   ]
  },
  {
   "attachments": {},
   "cell_type": "markdown",
   "metadata": {},
   "source": [
    "now let's get the distance between our two boundary points points"
   ]
  },
  {
   "cell_type": "code",
   "execution_count": 523,
   "metadata": {},
   "outputs": [
    {
     "data": {
      "text/plain": [
       "0.07362695789025786"
      ]
     },
     "execution_count": 523,
     "metadata": {},
     "output_type": "execute_result"
    }
   ],
   "source": [
    "bp1 = SkyCoord(ra=bounds_test[0][opi], dec=bounds_test[1][opi], unit=\"deg\")\n",
    "bp2 = SkyCoord(ra=bounds_test[0][mini], dec=bounds_test[1][mini], unit=\"deg\")\n",
    "bp1.separation(bp2).degree"
   ]
  },
  {
   "attachments": {},
   "cell_type": "markdown",
   "metadata": {},
   "source": [
    "- $x$ = separation between our data point and boundary point 1\n",
    "- $y$ = separation between our data point and boundary point 2\n",
    "- $z$ = separation between our two boundary points"
   ]
  },
  {
   "cell_type": "code",
   "execution_count": 524,
   "metadata": {},
   "outputs": [
    {
     "data": {
      "text/plain": [
       "(0.0018706787282993344, 0.0017206293956544586, 0.0012850328334122175)"
      ]
     },
     "execution_count": 524,
     "metadata": {},
     "output_type": "execute_result"
    }
   ],
   "source": [
    "x = seps[opi] * (np.pi / 180.)\n",
    "y = seps[mini] * (np.pi / 180.)\n",
    "z = bp1.separation(bp2).degree * (np.pi / 180.)\n",
    "x, y, z"
   ]
  },
  {
   "attachments": {},
   "cell_type": "markdown",
   "metadata": {},
   "source": [
    "to find the the perpendicular bisector of this triangle (which is approximately the shortest distance between the data point and the healpix polygon), we will have to find\n",
    "\n",
    "$\\sin(a) = \\sin(A)\\sin(x)$\n",
    "\n",
    "$a = \\arcsin(\\sin(A),\\sin(x))$\n",
    "\n",
    "where $a$ is the bisector, $x$ is the arc between our data point and one of the boundary points, and $A$ is the angle between that arc and the arc of the healpix boundary.\n",
    "\n",
    "this identity comes from [Napier's rules for right spherical triangles](https://en.wikipedia.org/wiki/Spherical_trigonometry#Napier's_rules_for_right_spherical_triangles).\n",
    "\n",
    "we already have $x$ from our separation calculations, but we're going to need to calculate the angle $A$. to do this, we can make use of the [spherical law of cosines](https://en.wikipedia.org/wiki/Spherical_law_of_cosines). let's use the identity\n",
    "\n",
    "$\\cos(y) = \\cos(x)\\cos(z) + \\sin(x)\\sin(z)\\cos(A)$\n",
    "\n",
    "from there we can solve for A with\n",
    "\n",
    "$\\sin(x)\\sin(z)\\cos(A) = \\cos(y) - \\cos(x)\\cos(z)$\n",
    "\n",
    "$\\cos(A) = {\\cos(y) - \\cos(x)\\cos(z) \\over \\sin(x)\\sin(z)}$\n",
    "\n",
    "$A = {\\arccos({\\cos(y) - \\cos(x)\\cos(z) \\over \\sin(x)\\sin(z)})}$\n",
    "\n",
    "and now we have all the information to find the bisector and compare it to our margin threshold! "
   ]
  },
  {
   "cell_type": "code",
   "execution_count": 525,
   "metadata": {},
   "outputs": [
    {
     "data": {
      "text/plain": [
       "1.097805699243744"
      ]
     },
     "execution_count": 525,
     "metadata": {},
     "output_type": "execute_result"
    }
   ],
   "source": [
    "ang = np.arccos(\n",
    "    (np.cos(y) - (np.cos(x) * np.cos(z))) / (np.sin(x) * np.sin(z))\n",
    ")\n",
    "ang"
   ]
  },
  {
   "cell_type": "code",
   "execution_count": 526,
   "metadata": {},
   "outputs": [
    {
     "data": {
      "text/plain": [
       "0.09541446117301507"
      ]
     },
     "execution_count": 526,
     "metadata": {},
     "output_type": "execute_result"
    }
   ],
   "source": [
    "bisector = np.arcsin(np.sin(ang) * np.sin(x))\n",
    "bisector * (180. / np.pi)"
   ]
  },
  {
   "attachments": {},
   "cell_type": "markdown",
   "metadata": {},
   "source": [
    "and look at that, the value that we were expecting!! now let's tie this code into a nice function and run it with our $x$ and $y$ swapped (i.e., make sure that the bisector is still the same if we start from the other half of the triangle)."
   ]
  },
  {
   "cell_type": "code",
   "execution_count": 527,
   "metadata": {},
   "outputs": [],
   "source": [
    "def find_perpendicular_bisector(x, y, z):\n",
    "    ang = np.arccos(\n",
    "        (np.cos(y) - (np.cos(x) * np.cos(z))) / (np.sin(x) * np.sin(z))\n",
    "    )\n",
    "    bisector = np.arcsin(np.sin(ang) * np.sin(x))\n",
    "    return bisector"
   ]
  },
  {
   "cell_type": "code",
   "execution_count": 528,
   "metadata": {},
   "outputs": [
    {
     "data": {
      "text/plain": [
       "(0.001665296501485404, 0.0016652965014447507)"
      ]
     },
     "execution_count": 528,
     "metadata": {},
     "output_type": "execute_result"
    }
   ],
   "source": [
    "half_triangle_one = find_perpendicular_bisector(x, y, z)\n",
    "half_triangle_two = find_perpendicular_bisector(y, x, z)\n",
    "half_triangle_one, half_triangle_two"
   ]
  },
  {
   "attachments": {},
   "cell_type": "markdown",
   "metadata": {},
   "source": [
    "excellent!!\n",
    "\n",
    "## Testing at Different Granularities\n",
    "\n",
    "we tested out the math on a set of of boundaries with a `step = 100`, meaninging we had a very fine sampling of points along the boundaries of the healpixel. the hope for this function is that we can run it at much lower steps to save computation time while still getting a good result. let's rig our code up and get a spead of different possible boundary sets."
   ]
  },
  {
   "cell_type": "code",
   "execution_count": 529,
   "metadata": {},
   "outputs": [],
   "source": [
    "def margin_check_point(ra, dec, order, pixel, step):\n",
    "    bounds = hp.vec2dir(\n",
    "        hp.boundaries(2**order, pixel, step=step, nest=True), lonlat=True\n",
    "    )\n",
    "\n",
    "    point_coord = SkyCoord(ra=ra, dec=dec, unit=\"deg\")\n",
    "    bound_coords = SkyCoord(ra=bounds[0], dec=bounds[1], unit=\"deg\")\n",
    "\n",
    "    separations = point_coord.separation(bound_coords).degree\n",
    "    minimum_index = np.argmin(separations)\n",
    "\n",
    "    p_1, m_1 = minimum_index + 1, minimum_index - 1\n",
    "    if minimum_index == 0:\n",
    "        m_1 = len(separations) - 1\n",
    "    if minimum_index == len(separations) - 1:\n",
    "        p_1 = 0\n",
    "\n",
    "    if separations[m_1] <= separations[p_1]:\n",
    "        other_index = m_1\n",
    "    else:\n",
    "        other_index = p_1\n",
    "\n",
    "    bc1 = SkyCoord(ra=bounds[0][minimum_index], dec=bounds[1][minimum_index], unit=\"deg\")\n",
    "    bc2 = SkyCoord(ra=bounds[0][other_index], dec=bounds[1][other_index], unit=\"deg\")\n",
    "\n",
    "    x = separations[minimum_index]\n",
    "    y = separations[other_index]\n",
    "    z = bc1.separation(bc2).degree\n",
    "\n",
    "    return find_perpendicular_bisector(x, y, z)"
   ]
  },
  {
   "cell_type": "code",
   "execution_count": 530,
   "metadata": {},
   "outputs": [
    {
     "data": {
      "text/plain": [
       "[0.09541217130260496,\n",
       " 0.09543372454130347,\n",
       " 0.09603144150540482,\n",
       " 0.09683408121708949,\n",
       " 0.09907704662684182,\n",
       " 0.09523052054743339]"
      ]
     },
     "execution_count": 530,
     "metadata": {},
     "output_type": "execute_result"
    }
   ],
   "source": [
    "results = []\n",
    "\n",
    "for s in [1000, 100, 10, 5, 3, 1]:\n",
    "    results.append(\n",
    "        margin_check_point(ra=ra, dec=dec, order=3, pixel=4, step=s)\n",
    "    )\n",
    "\n",
    "results"
   ]
  },
  {
   "attachments": {},
   "cell_type": "markdown",
   "metadata": {},
   "source": [
    "as you can see, the more we increase our `step`, the more accurate of a measurement of our bisector we get.\n",
    "\n",
    "## Speed Ups\n",
    "\n",
    "now that we can confirm that the math checks out, let's try and make the calculation faster.\n",
    "\n",
    "### Boundary Point Section Distances\n",
    "\n",
    "above, we calculated the distance between the boundary points on the fly, but since we'll be using a consistent `step` value, we can calculate that ahead of time."
   ]
  },
  {
   "cell_type": "code",
   "execution_count": 531,
   "metadata": {},
   "outputs": [],
   "source": [
    "def get_boundary_point_distances(order, pixel, step):\n",
    "    boundary_points = hp.vec2dir(\n",
    "        hp.boundaries(2**order, pixel, step=step, nest=True), lonlat=True\n",
    "    )\n",
    "\n",
    "    # shift forward all the coordinates by one\n",
    "    shift_ra = np.roll(boundary_points[0], 1)\n",
    "    shift_dec = np.roll(boundary_points[1], 1)\n",
    "\n",
    "    coord_set_1 = SkyCoord(ra=boundary_points[0], dec=boundary_points[1], unit=\"deg\")\n",
    "    coord_set_2 = SkyCoord(ra=shift_ra, dec=shift_dec, unit=\"deg\")\n",
    "\n",
    "    separations = coord_set_1.separation(coord_set_2).degree\n",
    "    return separations"
   ]
  },
  {
   "cell_type": "code",
   "execution_count": 532,
   "metadata": {},
   "outputs": [
    {
     "data": {
      "text/plain": [
       "array([7.33863363, 7.33863363, 7.35465675, 7.35465675])"
      ]
     },
     "execution_count": 532,
     "metadata": {},
     "output_type": "execute_result"
    }
   ],
   "source": [
    "quad_lengths = get_boundary_point_distances(3,4,1)\n",
    "quad_lengths"
   ]
  },
  {
   "attachments": {},
   "cell_type": "markdown",
   "metadata": {},
   "source": [
    "### Getting Separations Quickly with Numpy Optimization\n",
    "\n",
    "in the actual code, calculating all the separations is still acting as a bottleneck. now that we have a costant value for sampling we can use some numpy tricks to hopefully speed everything up."
   ]
  },
  {
   "cell_type": "code",
   "execution_count": 533,
   "metadata": {},
   "outputs": [
    {
     "data": {
      "text/plain": [
       "(13238, 400)"
      ]
     },
     "execution_count": 533,
     "metadata": {},
     "output_type": "execute_result"
    }
   ],
   "source": [
    "ra_array = np.array([df[\"ra\"].values])\n",
    "dec_array = np.array([df[\"dec\"].values])\n",
    "\n",
    "bounds_ra = np.array([bounds_test[0]])\n",
    "bounds_dec = np.array([bounds_test[1]])\n",
    "\n",
    "axis_0_repeat = len(ra_array[0])\n",
    "axis_1_repeat = len(bounds_ra[0])\n",
    "\n",
    "axis_0_repeat, axis_1_repeat"
   ]
  },
  {
   "cell_type": "code",
   "execution_count": 534,
   "metadata": {},
   "outputs": [
    {
     "data": {
      "text/plain": [
       "array([[9.95455254, 9.9035638 , 9.85288725, ..., 9.8055929 , 9.85491986,\n",
       "        9.90457469],\n",
       "       [9.95036235, 9.89938241, 9.84871488, ..., 9.8013763 , 9.85071204,\n",
       "        9.90037567],\n",
       "       [9.95020424, 9.89922312, 9.84855441, ..., 9.80122184, 9.85055634,\n",
       "        9.90021875],\n",
       "       ...,\n",
       "       [0.13401494, 0.15692195, 0.20501546, ..., 0.35347697, 0.28023194,\n",
       "        0.20704615],\n",
       "       [0.12060942, 0.15964265, 0.21718455, ..., 0.33536777, 0.26282797,\n",
       "        0.19088496],\n",
       "       [0.12654865, 0.16578231, 0.22292763, ..., 0.34070734, 0.26828127,\n",
       "        0.19651807]])"
      ]
     },
     "execution_count": 534,
     "metadata": {},
     "output_type": "execute_result"
    }
   ],
   "source": [
    "sc1 = SkyCoord(\n",
    "    ra=np.repeat(bounds_ra, axis_0_repeat, axis=0),\n",
    "    dec=np.repeat(bounds_dec, axis_0_repeat, axis=0),\n",
    "    unit=\"deg\"\n",
    ")\n",
    "\n",
    "sc2 = SkyCoord(\n",
    "    ra=np.repeat(np.reshape(ra_array, (-1, 1)), axis_1_repeat, axis=1),\n",
    "    dec=np.repeat(np.reshape(dec_array, (-1, 1)), axis_1_repeat, axis=1),\n",
    "    unit=\"deg\"\n",
    ")\n",
    "\n",
    "arr = sc2.separation(sc1).degree\n",
    "arr"
   ]
  },
  {
   "cell_type": "code",
   "execution_count": 535,
   "metadata": {},
   "outputs": [
    {
     "name": "stdout",
     "output_type": "stream",
     "text": [
      "0.1214058789493936\n",
      "0.11748261228991881\n",
      "0.11755537636791677\n",
      "0.11859312343716596\n",
      "0.13097118741779418\n",
      "0.12868051929412974\n",
      "0.13496799350614985\n",
      "0.11657865317457006\n",
      "0.13965407629245388\n",
      "0.13473137785441147\n"
     ]
    }
   ],
   "source": [
    "for row in arr[0:10]:\n",
    "    print(np.min(row))"
   ]
  }
 ],
 "metadata": {
  "kernelspec": {
   "display_name": "hipscat-import",
   "language": "python",
   "name": "python3"
  },
  "language_info": {
   "codemirror_mode": {
    "name": "ipython",
    "version": 3
   },
   "file_extension": ".py",
   "mimetype": "text/x-python",
   "name": "python",
   "nbconvert_exporter": "python",
   "pygments_lexer": "ipython3",
   "version": "3.10.10"
  },
  "orig_nbformat": 4
 },
 "nbformat": 4,
 "nbformat_minor": 2
}
