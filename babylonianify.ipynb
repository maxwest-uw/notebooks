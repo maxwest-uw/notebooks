{
 "cells": [
  {
   "cell_type": "markdown",
   "metadata": {},
   "source": [
    "# Numba and Numpy Optimization Demos\n",
    "\n",
    "A companion notebook to my presentation for the LINCC Frameworks weekly design discussion.\n",
    "By Maxine West\n",
    "\n",
    "## Setup"
   ]
  },
  {
   "cell_type": "code",
   "execution_count": null,
   "metadata": {},
   "outputs": [],
   "source": [
    "import numpy as np\n",
    "import numba\n",
    "from astropy.coordinates import SkyCoord\n",
    "import healpy as hp"
   ]
  },
  {
   "cell_type": "markdown",
   "metadata": {},
   "source": [
    "## Numba\n",
    "\n",
    "### Working with Numba\n",
    "\n",
    "Let's work on a simple problem: converting base 10 numbers into base 60."
   ]
  },
  {
   "cell_type": "code",
   "execution_count": null,
   "metadata": {},
   "outputs": [],
   "source": [
    "# basic python implementation for converting to a base 60 babylonian number.\n",
    "# @numba.njit(cache=True)\n",
    "def base_sixty(n):\n",
    "    q = n\n",
    "    r = []\n",
    "\n",
    "    i = 0\n",
    "    while(q > 0):\n",
    "        r_i = q % 60\n",
    "        r.insert(0, r_i)\n",
    "        q = q // 60\n",
    "        i += 1\n",
    "\n",
    "    return r\n",
    "\n"
   ]
  },
  {
   "cell_type": "markdown",
   "metadata": {},
   "source": [
    "to make things prettier for us, let's make a dict of cuneiform characters to use, as well as a utlility function to convert a base 60 number into it's babylonian cuneiform representation. it sure was nice of the ancient baylonians to make their base 60 character system be base 10, may we all aspire to that level of backwards compatibility :)"
   ]
  },
  {
   "cell_type": "code",
   "execution_count": null,
   "metadata": {},
   "outputs": [],
   "source": [
    "ones = [\n",
    "    \"\",\n",
    "    \"\\U00012415\",\n",
    "    \"\\U00012416\",\n",
    "    \"\\U00012417\",\n",
    "    \"\\U00012418\",\n",
    "    \"\\U00012419\",\n",
    "    \"\\U0001241A\",\n",
    "    \"\\U0001241B\",\n",
    "    \"\\U0001241C\",\n",
    "    \"\\U0001241D\",\n",
    "]\n",
    "tens = [\n",
    "    \"\",\n",
    "    \"\\U0001230B\",\n",
    "    \"\\U00012399\",\n",
    "    \"\\U0001230D\",\n",
    "    \"\\U0001240F\",\n",
    "    \"\\U00012410\",\n",
    "]\n",
    "def babylonianify(t):\n",
    "    s = \"\"\n",
    "    j = 0\n",
    "    while(j < len(t)):\n",
    "        ten = t[j] // 10\n",
    "        one = t[j] % 10\n",
    "        pos = f\"{tens[ten]}{ones[one]}\"\n",
    "        s += pos\n",
    "        j += 1\n",
    "\n",
    "    return s"
   ]
  },
  {
   "cell_type": "code",
   "execution_count": null,
   "metadata": {},
   "outputs": [],
   "source": [
    "x = base_sixty(100)\n",
    "x, babylonianify(x)"
   ]
  },
  {
   "cell_type": "code",
   "execution_count": null,
   "metadata": {},
   "outputs": [],
   "source": [
    "arr = []\n",
    "for i in range(1,10_000_000):\n",
    "    arr.append(base_sixty(i))"
   ]
  },
  {
   "cell_type": "markdown",
   "metadata": {},
   "source": [
    "as we can see, while `numba` does speed up the function compared to the interpreted version, the gains aren't amazing. this is due to two reasons:\n",
    "- the actual loop for iterating over the numbers is handled by python (in the cell above).\n",
    "- the math is working with a list dynamically, which numba doesn't like as much\n",
    "\n",
    "let's see if we can refactor this code to work faster with numba.\n",
    "\n",
    "### Playing nice with Numba\n",
    "two optimize our base 60 calculations, will\n",
    "- statically set the size of our result array\n",
    "- put our inner loop inside the `njit` compiled function"
   ]
  },
  {
   "cell_type": "code",
   "execution_count": null,
   "metadata": {},
   "outputs": [],
   "source": [
    "# @numba.njit(cache=True)\n",
    "def base_sixty_static_memory(n=10_000_000):\n",
    "    max_digits = len(base_sixty(n))\n",
    "    result = np.zeros((n,max_digits))\n",
    "\n",
    "    for i in range(0, n):\n",
    "        j = max_digits - 1\n",
    "        x = i + 1\n",
    "        while(x > 0 and j >= 0):\n",
    "            result[i][j] = x % 60\n",
    "            x = x // 60\n",
    "            j -= 1\n",
    "    \n",
    "    return result"
   ]
  },
  {
   "cell_type": "markdown",
   "metadata": {},
   "source": [
    "now let's compare by using this code to generate the first 100 Million base 60 numerals, first by using the python interpreter and then by enabling `njit`."
   ]
  },
  {
   "cell_type": "code",
   "execution_count": null,
   "metadata": {},
   "outputs": [],
   "source": [
    "base_sixty_static_memory(100_000_000)"
   ]
  },
  {
   "cell_type": "markdown",
   "metadata": {},
   "source": [
    "## Clever Numpy Array Manipulation\n",
    "\n",
    "let's start with a simple and unnecessary mathematical calculation."
   ]
  },
  {
   "cell_type": "code",
   "execution_count": null,
   "metadata": {},
   "outputs": [],
   "source": [
    "def do_something(x, y):\n",
    "    return np.cos(x) * np.sin(y)"
   ]
  },
  {
   "cell_type": "code",
   "execution_count": null,
   "metadata": {},
   "outputs": [],
   "source": [
    "arr = []\n",
    "for i in range(0, 10_000_000):\n",
    "    arr.append(do_something(i, 9_999_999 - i))"
   ]
  },
  {
   "cell_type": "markdown",
   "metadata": {},
   "source": [
    "for people coming from more explicit and sensible programming langauges, the method `do_something` probably seems like it can only handle operations on two single number variables, x and y. normally, for `do_something` to handle arrays we would have to add a loop to iterate over the data. however, due to the magic/horror of python duck typing and the sleight of hand of the numpy team, we can actually shove a numpy array in there and it'll work much faster."
   ]
  },
  {
   "cell_type": "code",
   "execution_count": null,
   "metadata": {},
   "outputs": [],
   "source": [
    "x = np.arange(0, 10_000_000, 1)\n",
    "y = np.arange(10_000_000,0, -1)\n",
    "\n",
    "do_something(x, y)"
   ]
  },
  {
   "cell_type": "markdown",
   "metadata": {},
   "source": [
    "this even works multidimmensional arrays!"
   ]
  },
  {
   "cell_type": "code",
   "execution_count": null,
   "metadata": {},
   "outputs": [],
   "source": [
    "x_two_d = x.reshape(-1,100_000)\n",
    "y_two_d = y.reshape(-1,100_000)\n",
    "\n",
    "do_something(x_two_d, y_two_d)"
   ]
  },
  {
   "cell_type": "markdown",
   "metadata": {},
   "source": [
    "### Astronomy Specific Example\n",
    "\n",
    "A lot of people in astronomy think that the `astropy` coordiante and angular distance calculations are slow (and they kinda are). However, I think this is mostly due to an inefficient pattern that a lot of people use."
   ]
  },
  {
   "cell_type": "code",
   "execution_count": null,
   "metadata": {},
   "outputs": [],
   "source": [
    "rng = np.random.default_rng(24601)\n",
    "\n",
    "ras = [(360.0 * rng.random()) for _ in range(100_000)]\n",
    "decs = [(180.0 * rng.random()) - 90.0 for _ in range(100_000)]"
   ]
  },
  {
   "cell_type": "code",
   "execution_count": null,
   "metadata": {},
   "outputs": [],
   "source": [
    "# get the distance of our random points to the origin\n",
    "origin = SkyCoord(ra=0.0, dec=0.0, unit=\"deg\")\n",
    "\n",
    "res = []\n",
    "for i in range(100_000):\n",
    "    ra = ras[i]\n",
    "    dec = decs[i]\n",
    "\n",
    "    sc = SkyCoord(ra=ra, dec=dec, unit=\"deg\")\n",
    "\n",
    "    res.append(origin.separation(sc).degree)\n",
    "\n",
    "res"
   ]
  },
  {
   "cell_type": "markdown",
   "metadata": {},
   "source": [
    "however, astropy actually supports using `numpy` arrays as inputs for many operations!!"
   ]
  },
  {
   "cell_type": "code",
   "execution_count": null,
   "metadata": {},
   "outputs": [],
   "source": [
    "points = SkyCoord(ra=np.array(ras), dec=np.array(decs), unit=\"deg\")\n",
    "\n",
    "origin.separation(points).degree"
   ]
  },
  {
   "cell_type": "markdown",
   "metadata": {},
   "source": [
    "as you can see, the array -> single point separation calculation can be handled just fine by astropy and is many orders faster. and as long as the two arrays are the same shape, astropy can work with them.\n",
    "\n",
    "### Even More Astronomy Fun\n",
    "let's try this with an even bigger problem: can we find the distances between a set of points $M$ and every point in another set $N$? I won't even try to make the pure python version, as it would be way to slow. instead, let's just manipulate our two sets to get those results really fast. For this, we will compare the 100 thousand randomly generated points against 400 points sampled from a healpix partition."
   ]
  },
  {
   "cell_type": "code",
   "execution_count": null,
   "metadata": {},
   "outputs": [],
   "source": [
    "bounds = hp.vec2dir(\n",
    "    hp.boundaries(2**2, 4, step=100, nest=True), lonlat=True\n",
    ")\n",
    "\n",
    "# reshape the ra matrix to be a single column, then repeat each column 400 times (the length of the N array)\n",
    "ra_matrix = np.repeat(np.reshape([ras], (-1, 1)), 400, axis=1)\n",
    "dec_matrix = np.repeat(np.reshape([decs], (-1, 1)), 400, axis=1)\n",
    "\n",
    "# repeat the N matrix 100,000 times\n",
    "bounds_ra_matrix = np.repeat(np.array([bounds[0]]), 100_000, axis=0)\n",
    "bounds_dec_matrix = np.repeat(np.array([bounds[1]]), 100_000, axis=0)\n",
    "\n",
    "np.shape(ra_matrix), np.shape(bounds_dec_matrix)"
   ]
  },
  {
   "cell_type": "code",
   "execution_count": null,
   "metadata": {},
   "outputs": [],
   "source": [
    "sc1 = SkyCoord(ra = ra_matrix, dec = dec_matrix, unit=\"deg\")\n",
    "sc2 = SkyCoord(ra = bounds_ra_matrix, dec = bounds_dec_matrix, unit=\"deg\")"
   ]
  },
  {
   "cell_type": "code",
   "execution_count": null,
   "metadata": {},
   "outputs": [],
   "source": [
    "sc1.separation(sc2).degree"
   ]
  }
 ],
 "metadata": {
  "kernelspec": {
   "display_name": "sorcha",
   "language": "python",
   "name": "python3"
  },
  "language_info": {
   "codemirror_mode": {
    "name": "ipython",
    "version": 3
   },
   "file_extension": ".py",
   "mimetype": "text/x-python",
   "name": "python",
   "nbconvert_exporter": "python",
   "pygments_lexer": "ipython3",
   "version": "3.10.12"
  },
  "orig_nbformat": 4
 },
 "nbformat": 4,
 "nbformat_minor": 2
}
