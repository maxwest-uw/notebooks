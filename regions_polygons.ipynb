{
 "cells": [
  {
   "cell_type": "markdown",
   "id": "82234c2b-d514-4ccd-bc82-b751ba2594fe",
   "metadata": {
    "jp-MarkdownHeadingCollapsed": true,
    "tags": []
   },
   "source": [
    "# Using Astropy Regions to Check Margin Cache"
   ]
  },
  {
   "cell_type": "markdown",
   "id": "45e37f55-7cf3-4e4f-ae17-1649cc19fc2e",
   "metadata": {},
   "source": [
    "## Intro\n",
    "This notebook serves as part 2 for my work on margin caching and contains some practical examples of building margin bounding boxes using astropy's [regions](https://astropy-regions.readthedocs.io/en/stable/) and checking them against actual gaia data.\n",
    "\n",
    "You can read 'part 1' [here](https://github.com/maxwest-uw/notebooks/blob/main/margin_cache_affine.ipynb). That notebook contains the full explanation of how the affine transform to create the bounding box, which is presented here without much comment."
   ]
  },
  {
   "cell_type": "code",
   "execution_count": 1,
   "id": "53f6888a-5288-464d-a59c-863e2ffa6151",
   "metadata": {},
   "outputs": [],
   "source": [
    "import healpy as hp\n",
    "import numpy as np\n",
    "import sys\n",
    "sys.path.insert(0, '/astro/users/maxwest/lsd2')\n",
    "import hipscat as hc"
   ]
  },
  {
   "cell_type": "code",
   "execution_count": 2,
   "id": "6a8c1fda-95be-4ab4-ab9e-bcea1602e9da",
   "metadata": {},
   "outputs": [],
   "source": [
    "from astropy.table import Table\n",
    "from astropy.coordinates import SkyCoord\n",
    "from regions import PixCoord, PolygonSkyRegion, PolygonPixelRegion\n",
    "import astropy.wcs as wcs"
   ]
  },
  {
   "cell_type": "code",
   "execution_count": 3,
   "id": "8c56b5da-5191-4d1f-9842-46b1d799ed94",
   "metadata": {},
   "outputs": [],
   "source": [
    "margin_thresh = 0.1 # in degrees\n",
    "k = 3\n",
    "pix = 4\n",
    "step = 100"
   ]
  },
  {
   "cell_type": "markdown",
   "id": "035660a7-afd7-4158-ad6f-fd4106b81aac",
   "metadata": {},
   "source": [
    "## Affine Transform"
   ]
  },
  {
   "cell_type": "code",
   "execution_count": 4,
   "id": "2aa9931b-069a-423e-92a8-5459e9e089c5",
   "metadata": {},
   "outputs": [
    {
     "data": {
      "text/plain": [
       "1.0274748806654526"
      ]
     },
     "execution_count": 4,
     "metadata": {},
     "output_type": "execute_result"
    }
   ],
   "source": [
    "resolution = hp.nside2resol(2**k, arcmin=True) / 60.\n",
    "resolution_and_thresh = resolution + (margin_thresh)\n",
    "margin_area = resolution_and_thresh ** 2\n",
    "pixel_area = hp.pixelfunc.nside2pixarea(2**k, degrees=True)\n",
    "scale = margin_area / pixel_area\n",
    "scale"
   ]
  },
  {
   "cell_type": "code",
   "execution_count": 5,
   "id": "759f3bdb-5e87-451b-a3eb-9c110ccf45bd",
   "metadata": {},
   "outputs": [
    {
     "data": {
      "text/plain": [
       "(-1.5454620374317045, -0.3982716101184458)"
      ]
     },
     "execution_count": 5,
     "metadata": {},
     "output_type": "execute_result"
    }
   ],
   "source": [
    "pixel_boundaries = hp.vec2dir(hp.boundaries(2**k, pix, step=step, nest=True), lonlat=True)\n",
    "\n",
    "n_samples = len(pixel_boundaries[0])\n",
    "centroid_lon = np.sum(pixel_boundaries[0]) / n_samples\n",
    "centroid_lat = np.sum(pixel_boundaries[1]) / n_samples\n",
    "translate_lon = centroid_lon - (centroid_lon * scale)\n",
    "translate_lat = centroid_lat - (centroid_lat * scale)\n",
    "translate_lon, translate_lat"
   ]
  },
  {
   "cell_type": "code",
   "execution_count": 6,
   "id": "5addbc53-5d09-4c59-8e9a-7d28527a2f95",
   "metadata": {},
   "outputs": [
    {
     "data": {
      "text/plain": [
       "array([[56.25      , 56.19220454, 56.13440908, ..., 56.42338639,\n",
       "        56.36559092, 56.30779546],\n",
       "       [19.60791849, 19.55589241, 19.50388254, ..., 19.45188882,\n",
       "        19.50388254, 19.55589241],\n",
       "       [ 1.        ,  1.        ,  1.        , ...,  1.        ,\n",
       "         1.        ,  1.        ]])"
      ]
     },
     "execution_count": 6,
     "metadata": {},
     "output_type": "execute_result"
    }
   ],
   "source": [
    "affine_matrix = np.array([[scale, 0, translate_lon],\n",
    "                              [0, scale, translate_lat],\n",
    "                              [0,     0,             1]])\n",
    "\n",
    "homogeneous = np.ones((3, n_samples))\n",
    "homogeneous[0] = pixel_boundaries[0]\n",
    "homogeneous[1] = pixel_boundaries[1]\n",
    "\n",
    "transformed_bounding_box = np.matmul(affine_matrix, homogeneous)\n",
    "transformed_bounding_box"
   ]
  },
  {
   "cell_type": "markdown",
   "id": "d4f2511f-71b3-4f48-99ca-24d01b0375c3",
   "metadata": {},
   "source": [
    "## Checking Our Bounding Box On-Sky\n",
    "Having a nicely transformed transformed set of coordinates is nifty, but unfortunately we do have to actually check real life coordinates against it somehow. This would be easier if healpixels were nice, regular polygons, but unfortunately they're quite squiqly, so we're going to have to find a way to build polygons on the sky.\n",
    "\n",
    "Luckily for us, astropy has been developing the [`regions`](https://github.com/astropy/regions) package which does just that! At the time of writing this notebook, they're on `v0.7` currently and they do say that the package is still under development.\n",
    "\n",
    "While `regions` does have a basic `PolygonSkyRegion` class to easily create shapes based on `SkyCoord` coordinates, the package currently currently does have any bound checking for that class directly, so we'll have to convert that shape into a `PolygonPixelRegion` and convert all of our coordinates into a common pixel space, which we can do by creating a WCS object based on the healpixel that we're trying to check.\n",
    "\n",
    "### Building the WCS\n",
    "Let's keep it simple by setting the origin for our pixel space at the minima for `ra` and `dec` of our healpixel. By assuming that our \"image\" is oriented upwards, we can use a `cdelt` value of 1 arcsecond for both the ra and dec.\n",
    "\n",
    "It's possible that trying to create cartesian coordinate planes for spherical points might cause enough error to warrant concern (especially at larger order pixel) but from my experimentation everything seems to work quite well."
   ]
  },
  {
   "cell_type": "code",
   "execution_count": 7,
   "id": "60f4c3f5-0bb2-4ec9-b418-8c9b9eab30ea",
   "metadata": {},
   "outputs": [],
   "source": [
    "min_ra = np.min(transformed_bounding_box[0])\n",
    "max_ra = np.max(transformed_bounding_box[0])\n",
    "min_dec = np.min(transformed_bounding_box[1])\n",
    "max_dec = np.max(transformed_bounding_box[1])\n",
    "\n",
    "pix_size = 0.0002777777778"
   ]
  },
  {
   "cell_type": "code",
   "execution_count": 8,
   "id": "62a4cadc-a0fa-4b05-b038-596b11cc41ee",
   "metadata": {},
   "outputs": [
    {
     "data": {
      "text/plain": [
       "(50.470453796256834, 9.459392496371214)"
      ]
     },
     "execution_count": 8,
     "metadata": {},
     "output_type": "execute_result"
    }
   ],
   "source": [
    "min_ra, min_dec"
   ]
  },
  {
   "cell_type": "code",
   "execution_count": 9,
   "id": "0da06410-0361-4555-9874-23c3090954e5",
   "metadata": {},
   "outputs": [
    {
     "data": {
      "text/plain": [
       "(41612, 36534)"
      ]
     },
     "execution_count": 9,
     "metadata": {},
     "output_type": "execute_result"
    }
   ],
   "source": [
    "ra_naxis =int((max_ra - min_ra) / pix_size)\n",
    "dec_naxis = int((max_dec - min_dec) / pix_size)\n",
    "ra_naxis, dec_naxis"
   ]
  },
  {
   "cell_type": "code",
   "execution_count": 10,
   "id": "6d688f59-939b-4439-bcdc-370475f7b550",
   "metadata": {},
   "outputs": [],
   "source": [
    "wcs_margin = wcs.WCS(naxis=2)\n",
    "wcs_margin.wcs.crpix = [1, 1]\n",
    "wcs_margin.wcs.crval = [min_ra, min_dec]\n",
    "wcs_margin.wcs.cunit = [\"deg\", \"deg\"]\n",
    "wcs_margin.wcs.ctype = [\"RA---TAN\", \"DEC--TAN\"]\n",
    "wcs_margin.wcs.cdelt = [pix_size, pix_size]\n",
    "wcs_margin.array_shape = [ra_naxis, dec_naxis]"
   ]
  },
  {
   "cell_type": "markdown",
   "id": "411cface-9df3-4cd1-a70b-82fa5cb20dc4",
   "metadata": {},
   "source": [
    "### `Regions` Bounding Box\n",
    "Now that we have our WCS constructed, we can build our bounding box!\n",
    "\n",
    "For `k` of less than 2, the large size of the healpixels causes `regions` and wcs calculations to break down (not to mention, creates a large amount of error in calculating bounds) so to solve this we break the bounding box into 4 different polygons and create a new WCS for each. For higher orders, we can just work with building a single bounding box."
   ]
  },
  {
   "cell_type": "code",
   "execution_count": 11,
   "id": "c314b2ed-5c94-4338-b000-6c6a781f021b",
   "metadata": {},
   "outputs": [],
   "source": [
    "polygons = []\n",
    "if k < 2:\n",
    "    for i in range(4):    \n",
    "        j = i * step\n",
    "        lon = list(transformed_bounding_box[0][j:j+step+1])\n",
    "        lat = list(transformed_bounding_box[1][j:j+step+1])\n",
    "\n",
    "        lon.append(centroid_lon)\n",
    "        lat.append(centroid_lat)\n",
    "\n",
    "        wcs_sub = wcs.WCS(naxis=2)\n",
    "        wcs_sub.wcs.crpix = [1, 1]\n",
    "        wcs_sub.wcs.crval = [lon[0], lat[0]]\n",
    "        wcs_sub.wcs.cunit = [\"deg\", \"deg\"]\n",
    "        wcs_sub.wcs.ctype = [\"RA---TAN\", \"DEC--TAN\"]\n",
    "        wcs_sub.wcs.cdelt = [pix_size, pix_size]\n",
    "        wcs_sub.array_shape = [int(ra_naxis/2), int(dec_naxis/2)]\n",
    "\n",
    "        vertices = SkyCoord(lon, lat, unit='deg')\n",
    "        sky_region = PolygonSkyRegion(vertices=vertices)\n",
    "        polygons.append((sky_region.to_pixel(wcs_sub), wcs_sub))\n",
    "else:\n",
    "    vertices = SkyCoord(transformed_bounding_box[0], transformed_bounding_box[1], unit='deg')\n",
    "    sky_region = PolygonSkyRegion(vertices=vertices)\n",
    "    polygon_region = sky_region.to_pixel(wcs_margin)\n",
    "    polygons = [(polygon_region, wcs_margin)]"
   ]
  },
  {
   "cell_type": "markdown",
   "id": "908c4c91-a841-4a20-b851-30113eb067b7",
   "metadata": {},
   "source": [
    "Let's sanity check some random points against our region."
   ]
  },
  {
   "cell_type": "code",
   "execution_count": 12,
   "id": "7004166f-fd83-41c0-9555-02a383c528f6",
   "metadata": {},
   "outputs": [
    {
     "data": {
      "text/plain": [
       "<SkyCoord (ICRS): (ra, dec) in deg\n",
       "    [(42.4704538 ,  1.4593925 ), (56.25      , 14.49584495),\n",
       "     (50.61225197, 14.4767556 )]>"
      ]
     },
     "execution_count": 12,
     "metadata": {},
     "output_type": "execute_result"
    }
   ],
   "source": [
    "# far out point, expect False\n",
    "test_ra1 = min_ra - 8\n",
    "test_dec1 = min_dec - 8\n",
    "\n",
    "# middle of our healpixel, expect True\n",
    "test_ra2 = centroid_lon\n",
    "test_dec2 = centroid_lat\n",
    "\n",
    "# actual point from Norder3/Npix4 of my\n",
    "# gaia test catalog, expect True\n",
    "# if k = 3 and pix = 4\n",
    "test_ra3 = 50.61225197\n",
    "test_dec3 = 14.4767556\n",
    "\n",
    "test_ra = np.array([test_ra1, test_ra2, test_ra3])\n",
    "test_dec = np.array([test_dec1, test_dec2, test_dec3])\n",
    "\n",
    "sc = SkyCoord(test_ra, test_dec, unit='deg')\n",
    "sc"
   ]
  },
  {
   "cell_type": "code",
   "execution_count": 13,
   "id": "7220b5c2-a38a-462a-8751-d1882139a93b",
   "metadata": {},
   "outputs": [
    {
     "data": {
      "text/plain": [
       "array([False,  True,  True])"
      ]
     },
     "execution_count": 13,
     "metadata": {},
     "output_type": "execute_result"
    }
   ],
   "source": [
    "x, y = wcs_margin.world_to_pixel(sc)\n",
    "\n",
    "pc = PixCoord(x, y)\n",
    "polygons[0][0].contains(pc)"
   ]
  },
  {
   "cell_type": "markdown",
   "id": "5657d992-7321-407c-9a62-417ddb10fb92",
   "metadata": {},
   "source": [
    "looking good!! Now we're going to check it out against some actual gaia data and plot it so we can get a good visual sense of how this works.\n",
    "\n",
    "## Running Against Actual Gaia Data\n",
    "In the `hipscat` implementation of margin caching, we the pixel at a higher order `highest_k` (in our case, k=6) and find all the `highest_k` pixels that direcly border the given partition pixel. This allows us to constrain the data significantly and quickly before we do the more precise margin bound checking.\n",
    "\n",
    "let's grab those margins now, for visualization purposes later."
   ]
  },
  {
   "cell_type": "code",
   "execution_count": 14,
   "id": "d1c82acc-325e-42d3-964f-5d95065f8588",
   "metadata": {},
   "outputs": [
    {
     "data": {
      "text/plain": [
       "array([   85,    93,   117,   125,    87,    95,   119,   127,   213,\n",
       "         384,   388,   400,   404,   385,   389,   401,   405,   448,\n",
       "         320,   328,   352,   360,   322,   330,   354,   362, 23530,\n",
       "       23466, 23470, 23482, 23486, 23467, 23471, 23483, 23487, 23295])"
      ]
     },
     "execution_count": 14,
     "metadata": {},
     "output_type": "execute_result"
    }
   ],
   "source": [
    "margins = hc.margin_utils.get_margin(k, pix, 6 - k)\n",
    "margins"
   ]
  },
  {
   "cell_type": "code",
   "execution_count": 15,
   "id": "397f0a41-2028-481e-af80-d2f828d3c911",
   "metadata": {},
   "outputs": [],
   "source": [
    "import matplotlib.pyplot as plt\n",
    "from matplotlib.patches import Polygon\n",
    "\n",
    "%matplotlib inline"
   ]
  },
  {
   "cell_type": "markdown",
   "id": "b79f17f9-04a1-4e5d-8d41-7a5c3af811e5",
   "metadata": {},
   "source": [
    "I've uploaded some of the actual results of find the data that fits within the `margins` pixels above, which was run with the `lsd2` prototype. We can use that data to do a test of our margin bound checking and take a look at it on a plot!"
   ]
  },
  {
   "cell_type": "code",
   "execution_count": 16,
   "id": "eb96c55b-d2b4-4a5a-84b2-40b8428bd28e",
   "metadata": {},
   "outputs": [],
   "source": [
    "import pandas as pd\n",
    "\n",
    "df1 = pd.read_parquet(f'/astro/users/maxwest/neighbor-{k}-{pix}.parquet')\n",
    "df2 = pd.read_parquet(f'/astro/users/maxwest/catalog-{k}-{pix}.parquet')\n",
    "\n",
    "def in_bounds(skycoord, polys):\n",
    "    bound_vals = []\n",
    "    for p, w in polys:\n",
    "        xv, yv = wcs.utils.skycoord_to_pixel(skycoord, w)\n",
    "        pcs = PixCoord(xv, yv)\n",
    "        vals = p.contains(pcs)\n",
    "        bound_vals.append(vals)\n",
    "    return np.array(bound_vals).any(axis=0)\n",
    "\n",
    "# convert ra and dec values into SkyCoords\n",
    "scs = SkyCoord(df1['ra'].values, df1['dec'].values, unit='deg')\n",
    "bound_vals = in_bounds(scs, polygons)\n",
    "df1['in_margin'] = bound_vals\n",
    "\n",
    "in_box = df1.loc[df1['in_margin'] == True]\n",
    "out_box = df1.loc[df1['in_margin'] == False]"
   ]
  },
  {
   "cell_type": "markdown",
   "id": "c5273742-f103-4e72-a3d2-66c04c8763b4",
   "metadata": {},
   "source": [
    "Now let's take take a peek and see what this all looks like!\n",
    "- **Green**: data that's inside the margin\n",
    "- **Red**: data that was in the neighboring pixels but not part of the bounding box.\n",
    "- **Blue**: pixel partition catalog data\n",
    "\n",
    "I've also plotted the bounds of the margin pixels as well as the line marking the bounding box."
   ]
  },
  {
   "cell_type": "code",
   "execution_count": 17,
   "id": "96e9b451-81ef-43b5-8847-bc543f2cfa84",
   "metadata": {},
   "outputs": [
    {
     "data": {
      "text/plain": [
       "(9.359392496371214, 19.707918487715578)"
      ]
     },
     "execution_count": 17,
     "metadata": {},
     "output_type": "execute_result"
    },
    {
     "data": {
      "image/png": "[encoded data removed]",
      "text/plain": [
       "<Figure size 432x288 with 1 Axes>"
      ]
     },
     "metadata": {
      "needs_background": "light"
     },
     "output_type": "display_data"
    }
   ],
   "source": [
    "def plot_pixel():\n",
    "    ax = plt.subplot(1, 1, 1)\n",
    "    ax.scatter(df2['ra'].values, df2['dec'].values, color='blue', s=1)\n",
    "    # ax.scatter(df3['ra'].values, df3['dec'].values, color='orange')\n",
    "    # ax.scatter(in_constraint['ra'].values, in_constraint['dec'].values, color='orange', s=1)\n",
    "\n",
    "    ax.scatter(in_box['ra'].values, in_box['dec'].values, color='green', s=1)\n",
    "    ax.scatter(out_box['ra'].values, out_box['dec'].values, color='red', s=1)\n",
    "\n",
    "    for m in margins:\n",
    "        b = hp.vec2dir(hp.boundaries(2**6, m, nest=True), lonlat=True)\n",
    "        lon = b[0]\n",
    "        lat = b[1]\n",
    "        vertices = np.vstack([lon.ravel(), lat.ravel()]).transpose()\n",
    "        p = Polygon(vertices, closed=True, edgecolor='black', facecolor='none')\n",
    "        ax.add_patch(p)\n",
    "\n",
    "    lon = transformed_bounding_box[0]\n",
    "    lat = transformed_bounding_box[1]\n",
    "    vertices = np.vstack([lon.ravel(), lat.ravel()]).transpose()\n",
    "    p = Polygon(vertices, closed=True, edgecolor='black', facecolor='none')\n",
    "    ax.add_patch(p)\n",
    "\n",
    "plot_pixel()\n",
    "    \n",
    "plt.xlim(min_ra - 0.1, max_ra + 0.1)\n",
    "plt.ylim(min_dec - 0.1, max_dec + 0.1)"
   ]
  },
  {
   "cell_type": "markdown",
   "id": "48b4ee26-94a2-447f-9e37-ae67051c48b4",
   "metadata": {},
   "source": [
    "Computer, Enhance!"
   ]
  },
  {
   "cell_type": "code",
   "execution_count": 18,
   "id": "1f811fc0-4daf-4f89-b425-fd4708719c2d",
   "metadata": {},
   "outputs": [
    {
     "data": {
      "text/plain": [
       "(14.495844948991568, 19.707918487715578)"
      ]
     },
     "execution_count": 18,
     "metadata": {},
     "output_type": "execute_result"
    },
    {
     "data": {
      "image/png": "[encoded data removed]",
      "text/plain": [
       "<Figure size 432x288 with 1 Axes>"
      ]
     },
     "metadata": {
      "needs_background": "light"
     },
     "output_type": "display_data"
    }
   ],
   "source": [
    "plot_pixel()\n",
    "\n",
    "plt.xlim(min_ra - 0.1, centroid_lon)\n",
    "plt.ylim(centroid_lat, max_dec + 0.1)"
   ]
  },
  {
   "cell_type": "markdown",
   "id": "aac2dc6b-53d6-42e6-b7dd-5fe8271eb0bc",
   "metadata": {},
   "source": [
    "Let's see how many made it into the `neighbor.parquet` and how many didn't make the cut."
   ]
  },
  {
   "cell_type": "code",
   "execution_count": 19,
   "id": "5542c324-8b68-4d81-910e-e3ef2eef152e",
   "metadata": {},
   "outputs": [
    {
     "data": {
      "text/plain": [
       "(9458, 82575)"
      ]
     },
     "execution_count": 19,
     "metadata": {},
     "output_type": "execute_result"
    }
   ],
   "source": [
    "num_in = len(in_box)\n",
    "num_out = len(out_box)\n",
    "num_in, num_out"
   ]
  },
  {
   "cell_type": "markdown",
   "id": "3fcaa053-80e3-474b-bc95-23f0fa496103",
   "metadata": {},
   "source": [
    "And finally, let's take a look at the distance between the original bounding box and the transformed one. The closer this mean is to 6 arcseconds (for a `margin_thresh` of 0.1 degrees), the better!"
   ]
  },
  {
   "cell_type": "code",
   "execution_count": 20,
   "id": "21d01232-eea8-4feb-bcce-460be5da696c",
   "metadata": {},
   "outputs": [
    {
     "data": {
      "text/latex": [
       "$0^\\circ06{}^\\prime56.81753744{}^{\\prime\\prime}$"
      ],
      "text/plain": [
       "<Angle 0.11578265 deg>"
      ]
     },
     "execution_count": 20,
     "metadata": {},
     "output_type": "execute_result"
    }
   ],
   "source": [
    "dist = []\n",
    "osc = SkyCoord(pixel_boundaries[0], pixel_boundaries[1], unit='deg')\n",
    "tsc = SkyCoord(transformed_bounding_box[0], transformed_bounding_box[1], unit='deg')\n",
    "dist = osc.separation(tsc)\n",
    "np.mean(dist)"
   ]
  },
  {
   "cell_type": "markdown",
   "id": "490c01fa-b0bc-4201-8822-e4a4f001b074",
   "metadata": {},
   "source": [
    ":)"
   ]
  }
 ],
 "metadata": {
  "kernelspec": {
   "display_name": "max-lsdb",
   "language": "python",
   "name": "max-lsdb"
  },
  "language_info": {
   "codemirror_mode": {
    "name": "ipython",
    "version": 3
   },
   "file_extension": ".py",
   "mimetype": "text/x-python",
   "name": "python",
   "nbconvert_exporter": "python",
   "pygments_lexer": "ipython3",
   "version": "3.10.8"
  }
 },
 "nbformat": 4,
 "nbformat_minor": 5
}
