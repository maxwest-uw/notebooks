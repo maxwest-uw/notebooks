{
 "cells": [
  {
   "cell_type": "markdown",
   "id": "1601bbcf-3224-4067-bbd3-98bb4fcb564b",
   "metadata": {},
   "source": [
    "# Uncorrecting Parallax\n",
    "\n",
    "As part of KBMOD 2.0, we want the ability to take a set of images and “reproject” them into what we call “Explicit Barycentric Distance” (EBD) space, where we take a guess distance in AU from the sun (the “explicit” part in EBD) and reproject the image as if it was viewed from the Solar System’s barycenter. This change removes the parallax from the apparent motion of any moving objects and makes the path of the object appear more linear, and therefore more visible to KBMOD’s linear trajectory searching algorithm.\n",
    "\n",
    "We have already done a lot of testing and validation of this approach on both simulated and real data, and we’ve already merged a lot of the needed code into the broader KBMOD project, and we’re pretty confident that further testing and improvements will result in better KBMOD search results. However, before reprojection becomes an integrated part of the KBMOD search pipeline, we need to address the issue of data provenance; if we find more TNOs through reprojected searching, but aren’t able to point in the original data where the object actually is, then we will have wasted a lot of compute and dev resources for nothing.\n",
    "\n",
    "In the original KBMOD implementation, searching was done over pixel-space trajectories on the original images, and then when the results were filtered and clustered, we could easily pull the image stamps where we believed objects to be. In the new paradigm of pre facto barycentric reprojection, we run into a serious problem: the images that we’re searching for over have been resampled into a new frame during the search, but we’ll still need to be able to point to where in the original image the object is located before we can officially confirm that the object actually exists and was observed. This is further complicated by the fact that we are now combining data from different chips at the same obstime into single images.\n",
    "\n",
    "To get back to original coordinates, let's try reversing the steps of parallax projection and test that against the original coordinate.\n",
    "\n",
    "## Setup\n"
   ]
  },
  {
   "cell_type": "code",
   "execution_count": 1,
   "id": "38814229-0f11-4f82-9586-2668cf0afc62",
   "metadata": {},
   "outputs": [],
   "source": [
    "from kbmod.reprojection_utils import correct_parallax"
   ]
  },
  {
   "cell_type": "markdown",
   "id": "554b9f42-3fb7-414e-a30e-7d221ff4daa2",
   "metadata": {},
   "source": [
    "the ra, dec value here is what we want to get back to in the end."
   ]
  },
  {
   "cell_type": "code",
   "execution_count": 2,
   "id": "76c883cb-9ce7-4669-a2f3-2d64a875f023",
   "metadata": {},
   "outputs": [],
   "source": [
    "from astropy.coordinates import EarthLocation, SkyCoord\n",
    "\n",
    "ra, dec = 346.9681342111, -6.482196848597\n",
    "\n",
    "time = \"2021-08-24T20:59:06\"\n",
    "site = \"ctio\"\n",
    "loc = EarthLocation.of_site(site)\n",
    "distance = 41.1592725489203"
   ]
  },
  {
   "cell_type": "markdown",
   "id": "75ea9f92-3b50-45ec-8470-b1d86bae3271",
   "metadata": {},
   "source": [
    "now we'll actually run the parallax correction."
   ]
  },
  {
   "cell_type": "code",
   "execution_count": 3,
   "id": "d65ac122-49b0-4ce4-8a55-ad5fbbd47d34",
   "metadata": {},
   "outputs": [
    {
     "data": {
      "text/plain": [
       "<ICRS Coordinate: (ra, dec, distance) in (deg, deg, AU)\n",
       "    (346.64995304, -6.59350347, 41.15927254)>"
      ]
     },
     "execution_count": 3,
     "metadata": {},
     "output_type": "execute_result"
    }
   ],
   "source": [
    "sc = SkyCoord(ra, dec, unit=\"deg\")\n",
    "\n",
    "corrected_coord = correct_parallax(sc, time, loc, distance)\n",
    "corrected_coord"
   ]
  },
  {
   "cell_type": "markdown",
   "id": "1543ff26-2394-44ef-a5df-2a7f052029f6",
   "metadata": {},
   "source": [
    "## Inverse Parallax Correction\n",
    "\n",
    "to get back to the original coordinate, we can just run backwards through the steps in [correct_parallax](https://github.com/dirac-institute/kbmod/blob/main/src/kbmod/reprojection_utils.py#L9)."
   ]
  },
  {
   "cell_type": "code",
   "execution_count": 4,
   "id": "56874875-5a09-4e75-8fb0-d6ed567af0bf",
   "metadata": {},
   "outputs": [],
   "source": [
    "import astropy.units as u\n",
    "import numpy as np\n",
    "from astropy import units as u\n",
    "from astropy.coordinates import SkyCoord, GCRS, ICRS\n",
    "from astropy.wcs.utils import fit_wcs_from_points\n",
    "from scipy.optimize import minimize\n",
    "\n",
    "def invert_correct_parallax(coord, time, loc, distance):\n",
    "    loc2 = (\n",
    "        loc.x.to(u.m).value,\n",
    "        loc.y.to(u.m).value,\n",
    "        loc.z.to(u.m).value,\n",
    "    ) * u.m\n",
    "    x = sc.transform_to(GCRS(ra=sc.ra, dec=sc.dec, distance=distance, obstime=time, obsgeoloc=loc2))\n",
    "    return x.transform_to(GCRS(obstime=time, obsgeoloc=loc2)).transform_to(ICRS())"
   ]
  },
  {
   "cell_type": "code",
   "execution_count": 5,
   "id": "663bf363-dbc2-40c9-99eb-a62df76e1362",
   "metadata": {},
   "outputs": [
    {
     "data": {
      "text/plain": [
       "(346.6499530448351, -6.5935034735937625)"
      ]
     },
     "execution_count": 5,
     "metadata": {},
     "output_type": "execute_result"
    }
   ],
   "source": [
    "fresh_ra, fresh_dec = corrected_coord.ra.degree, corrected_coord.dec.degree\n",
    "fresh_ra, fresh_dec"
   ]
  },
  {
   "cell_type": "markdown",
   "id": "97de75a9-35c4-4328-805b-51013af89366",
   "metadata": {},
   "source": [
    "Let's test: the smaller the difference between the original `SkyCoord` and `undone_sc`, than the better the result is."
   ]
  },
  {
   "cell_type": "code",
   "execution_count": 6,
   "id": "92b975fe-21ac-4a63-896c-ae6a9e1477ce",
   "metadata": {},
   "outputs": [
    {
     "data": {
      "text/plain": [
       "<SkyCoord (ICRS): (ra, dec) in deg\n",
       "    (346.96813421, -6.48219685)>"
      ]
     },
     "execution_count": 6,
     "metadata": {},
     "output_type": "execute_result"
    }
   ],
   "source": [
    "fresh_sc = SkyCoord(ra=fresh_ra, dec=fresh_dec, unit=\"deg\")\n",
    "\n",
    "undone_sc = invert_correct_parallax(fresh_sc, time, loc, distance)\n",
    "undone_sc"
   ]
  },
  {
   "cell_type": "code",
   "execution_count": 7,
   "id": "09c5eb24-0d30-4d9b-967f-561c83e51584",
   "metadata": {},
   "outputs": [
    {
     "data": {
      "text/latex": [
       "$0^\\circ00{}^\\prime00.00000001{}^{\\prime\\prime}$"
      ],
      "text/plain": [
       "<Angle 2.70547099e-12 deg>"
      ]
     },
     "execution_count": 7,
     "metadata": {},
     "output_type": "execute_result"
    }
   ],
   "source": [
    "sc.separation(undone_sc)"
   ]
  },
  {
   "cell_type": "markdown",
   "id": "25c8c9f0-d109-44ad-af3b-81ac1b4ccaca",
   "metadata": {},
   "source": [
    "success!!"
   ]
  },
  {
   "cell_type": "code",
   "execution_count": null,
   "id": "6942eb36-635c-40c7-942d-eec294381bdd",
   "metadata": {},
   "outputs": [],
   "source": []
  }
 ],
 "metadata": {
  "kernelspec": {
   "display_name": "kbmod",
   "language": "python",
   "name": "kbmod"
  },
  "language_info": {
   "codemirror_mode": {
    "name": "ipython",
    "version": 3
   },
   "file_extension": ".py",
   "mimetype": "text/x-python",
   "name": "python",
   "nbconvert_exporter": "python",
   "pygments_lexer": "ipython3",
   "version": "3.11.7"
  }
 },
 "nbformat": 4,
 "nbformat_minor": 5
}
